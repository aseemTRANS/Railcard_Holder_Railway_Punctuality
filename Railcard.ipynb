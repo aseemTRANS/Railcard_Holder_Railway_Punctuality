{
 "cells": [
  {
   "cell_type": "markdown",
   "id": "8ab9ef28",
   "metadata": {},
   "source": [
    "# Study 1: Railcard Holder"
   ]
  },
  {
   "cell_type": "code",
   "execution_count": 27,
   "id": "031b738f",
   "metadata": {},
   "outputs": [],
   "source": [
    "import pandas as pd\n",
    "import matplotlib.pyplot as plt\n",
    "import seaborn as sns\n",
    "from scipy.stats import chi2_contingency\n",
    "from scipy.stats import chi2\n",
    "import statsmodels.api as sm\n",
    "import numpy as np\n",
    "import warnings\n",
    "warnings.filterwarnings(\"ignore\")"
   ]
  },
  {
   "cell_type": "code",
   "execution_count": null,
   "id": "a98eea4d",
   "metadata": {},
   "outputs": [],
   "source": [
    "# <!-- Study done in Python using Pandas library, involved opening the original dataset, selecting relevent columns,\n",
    "# and performing data cleaning tasks such as handling null values, eliminating duplicates, renaming columns, \n",
    "# and adjusting data types.  -->\n",
    "\n",
    "# opening original data and data cleaning\n",
    "# df = pd.read_csv(\"Questionnaire_data_rail_stream(1).csv\")\n",
    "# df.columns = df.iloc[0]\n",
    "# df.columns = [str(col).replace(' ', '') for col in df.columns]\n",
    "# df = df.drop(0)\n",
    "# df = df.drop(0)\n",
    "# df = df.loc[:, ~df.columns.duplicated(keep='first')]\n",
    "# drop_columns = [\"Q1othertxt\"]\n",
    "# df.drop(drop_columns, axis = 1, inplace = True)\n",
    "# df.replace('999', pd.NA, inplace=True)\n",
    "# df.fillna(method='ffill', inplace=True)"
   ]
  },
  {
   "cell_type": "code",
   "execution_count": 28,
   "id": "1ebdbcea",
   "metadata": {},
   "outputs": [],
   "source": [
    "# opening the relevant data after data cleaning\n",
    "railcard = pd.read_csv(\"railcard.csv\")"
   ]
  },
  {
   "cell_type": "code",
   "execution_count": 29,
   "id": "c14b91e7",
   "metadata": {},
   "outputs": [
    {
     "data": {
      "text/html": [
       "<div>\n",
       "<style scoped>\n",
       "    .dataframe tbody tr th:only-of-type {\n",
       "        vertical-align: middle;\n",
       "    }\n",
       "\n",
       "    .dataframe tbody tr th {\n",
       "        vertical-align: top;\n",
       "    }\n",
       "\n",
       "    .dataframe thead th {\n",
       "        text-align: right;\n",
       "    }\n",
       "</style>\n",
       "<table border=\"1\" class=\"dataframe\">\n",
       "  <thead>\n",
       "    <tr style=\"text-align: right;\">\n",
       "      <th></th>\n",
       "      <th>railcard_yes</th>\n",
       "      <th>railcard_no</th>\n",
       "      <th>occup_student</th>\n",
       "      <th>occup_uniemp</th>\n",
       "      <th>occup_emp</th>\n",
       "      <th>occup_retired</th>\n",
       "      <th>occup_other</th>\n",
       "    </tr>\n",
       "  </thead>\n",
       "  <tbody>\n",
       "    <tr>\n",
       "      <th>0</th>\n",
       "      <td>0</td>\n",
       "      <td>1</td>\n",
       "      <td>0</td>\n",
       "      <td>1</td>\n",
       "      <td>0</td>\n",
       "      <td>0</td>\n",
       "      <td>0</td>\n",
       "    </tr>\n",
       "    <tr>\n",
       "      <th>1</th>\n",
       "      <td>0</td>\n",
       "      <td>1</td>\n",
       "      <td>1</td>\n",
       "      <td>0</td>\n",
       "      <td>0</td>\n",
       "      <td>0</td>\n",
       "      <td>0</td>\n",
       "    </tr>\n",
       "    <tr>\n",
       "      <th>2</th>\n",
       "      <td>1</td>\n",
       "      <td>0</td>\n",
       "      <td>1</td>\n",
       "      <td>0</td>\n",
       "      <td>0</td>\n",
       "      <td>0</td>\n",
       "      <td>0</td>\n",
       "    </tr>\n",
       "    <tr>\n",
       "      <th>3</th>\n",
       "      <td>1</td>\n",
       "      <td>0</td>\n",
       "      <td>0</td>\n",
       "      <td>0</td>\n",
       "      <td>1</td>\n",
       "      <td>0</td>\n",
       "      <td>0</td>\n",
       "    </tr>\n",
       "    <tr>\n",
       "      <th>4</th>\n",
       "      <td>1</td>\n",
       "      <td>0</td>\n",
       "      <td>1</td>\n",
       "      <td>0</td>\n",
       "      <td>0</td>\n",
       "      <td>0</td>\n",
       "      <td>0</td>\n",
       "    </tr>\n",
       "  </tbody>\n",
       "</table>\n",
       "</div>"
      ],
      "text/plain": [
       "   railcard_yes  railcard_no  occup_student  occup_uniemp  occup_emp  \\\n",
       "0             0            1              0             1          0   \n",
       "1             0            1              1             0          0   \n",
       "2             1            0              1             0          0   \n",
       "3             1            0              0             0          1   \n",
       "4             1            0              1             0          0   \n",
       "\n",
       "   occup_retired  occup_other  \n",
       "0              0            0  \n",
       "1              0            0  \n",
       "2              0            0  \n",
       "3              0            0  \n",
       "4              0            0  "
      ]
     },
     "execution_count": 29,
     "metadata": {},
     "output_type": "execute_result"
    }
   ],
   "source": [
    "railcard.head()"
   ]
  },
  {
   "cell_type": "code",
   "execution_count": 30,
   "id": "d26f5872",
   "metadata": {},
   "outputs": [
    {
     "name": "stdout",
     "output_type": "stream",
     "text": [
      "<class 'pandas.core.frame.DataFrame'>\n",
      "RangeIndex: 369 entries, 0 to 368\n",
      "Data columns (total 7 columns):\n",
      " #   Column         Non-Null Count  Dtype\n",
      "---  ------         --------------  -----\n",
      " 0   railcard_yes   369 non-null    int64\n",
      " 1   railcard_no    369 non-null    int64\n",
      " 2   occup_student  369 non-null    int64\n",
      " 3   occup_uniemp   369 non-null    int64\n",
      " 4   occup_emp      369 non-null    int64\n",
      " 5   occup_retired  369 non-null    int64\n",
      " 6   occup_other    369 non-null    int64\n",
      "dtypes: int64(7)\n",
      "memory usage: 20.3 KB\n"
     ]
    }
   ],
   "source": [
    "railcard.info()"
   ]
  },
  {
   "cell_type": "code",
   "execution_count": 31,
   "id": "1cde01fa",
   "metadata": {},
   "outputs": [
    {
     "data": {
      "text/html": [
       "<div>\n",
       "<style scoped>\n",
       "    .dataframe tbody tr th:only-of-type {\n",
       "        vertical-align: middle;\n",
       "    }\n",
       "\n",
       "    .dataframe tbody tr th {\n",
       "        vertical-align: top;\n",
       "    }\n",
       "\n",
       "    .dataframe thead th {\n",
       "        text-align: right;\n",
       "    }\n",
       "</style>\n",
       "<table border=\"1\" class=\"dataframe\">\n",
       "  <thead>\n",
       "    <tr style=\"text-align: right;\">\n",
       "      <th></th>\n",
       "      <th>railcard_yes</th>\n",
       "      <th>railcard_no</th>\n",
       "      <th>occup_student</th>\n",
       "      <th>occup_uniemp</th>\n",
       "      <th>occup_emp</th>\n",
       "      <th>occup_retired</th>\n",
       "      <th>occup_other</th>\n",
       "    </tr>\n",
       "  </thead>\n",
       "  <tbody>\n",
       "    <tr>\n",
       "      <th>count</th>\n",
       "      <td>369.000000</td>\n",
       "      <td>369.000000</td>\n",
       "      <td>369.000000</td>\n",
       "      <td>369.000000</td>\n",
       "      <td>369.000000</td>\n",
       "      <td>369.000000</td>\n",
       "      <td>369.000000</td>\n",
       "    </tr>\n",
       "    <tr>\n",
       "      <th>mean</th>\n",
       "      <td>0.609756</td>\n",
       "      <td>0.390244</td>\n",
       "      <td>0.886179</td>\n",
       "      <td>0.070461</td>\n",
       "      <td>0.048780</td>\n",
       "      <td>0.008130</td>\n",
       "      <td>0.008130</td>\n",
       "    </tr>\n",
       "    <tr>\n",
       "      <th>std</th>\n",
       "      <td>0.488467</td>\n",
       "      <td>0.488467</td>\n",
       "      <td>0.318025</td>\n",
       "      <td>0.256269</td>\n",
       "      <td>0.215701</td>\n",
       "      <td>0.089922</td>\n",
       "      <td>0.089922</td>\n",
       "    </tr>\n",
       "    <tr>\n",
       "      <th>min</th>\n",
       "      <td>0.000000</td>\n",
       "      <td>0.000000</td>\n",
       "      <td>0.000000</td>\n",
       "      <td>0.000000</td>\n",
       "      <td>0.000000</td>\n",
       "      <td>0.000000</td>\n",
       "      <td>0.000000</td>\n",
       "    </tr>\n",
       "    <tr>\n",
       "      <th>25%</th>\n",
       "      <td>0.000000</td>\n",
       "      <td>0.000000</td>\n",
       "      <td>1.000000</td>\n",
       "      <td>0.000000</td>\n",
       "      <td>0.000000</td>\n",
       "      <td>0.000000</td>\n",
       "      <td>0.000000</td>\n",
       "    </tr>\n",
       "    <tr>\n",
       "      <th>50%</th>\n",
       "      <td>1.000000</td>\n",
       "      <td>0.000000</td>\n",
       "      <td>1.000000</td>\n",
       "      <td>0.000000</td>\n",
       "      <td>0.000000</td>\n",
       "      <td>0.000000</td>\n",
       "      <td>0.000000</td>\n",
       "    </tr>\n",
       "    <tr>\n",
       "      <th>75%</th>\n",
       "      <td>1.000000</td>\n",
       "      <td>1.000000</td>\n",
       "      <td>1.000000</td>\n",
       "      <td>0.000000</td>\n",
       "      <td>0.000000</td>\n",
       "      <td>0.000000</td>\n",
       "      <td>0.000000</td>\n",
       "    </tr>\n",
       "    <tr>\n",
       "      <th>max</th>\n",
       "      <td>1.000000</td>\n",
       "      <td>1.000000</td>\n",
       "      <td>1.000000</td>\n",
       "      <td>1.000000</td>\n",
       "      <td>1.000000</td>\n",
       "      <td>1.000000</td>\n",
       "      <td>1.000000</td>\n",
       "    </tr>\n",
       "  </tbody>\n",
       "</table>\n",
       "</div>"
      ],
      "text/plain": [
       "       railcard_yes  railcard_no  occup_student  occup_uniemp   occup_emp  \\\n",
       "count    369.000000   369.000000     369.000000    369.000000  369.000000   \n",
       "mean       0.609756     0.390244       0.886179      0.070461    0.048780   \n",
       "std        0.488467     0.488467       0.318025      0.256269    0.215701   \n",
       "min        0.000000     0.000000       0.000000      0.000000    0.000000   \n",
       "25%        0.000000     0.000000       1.000000      0.000000    0.000000   \n",
       "50%        1.000000     0.000000       1.000000      0.000000    0.000000   \n",
       "75%        1.000000     1.000000       1.000000      0.000000    0.000000   \n",
       "max        1.000000     1.000000       1.000000      1.000000    1.000000   \n",
       "\n",
       "       occup_retired  occup_other  \n",
       "count     369.000000   369.000000  \n",
       "mean        0.008130     0.008130  \n",
       "std         0.089922     0.089922  \n",
       "min         0.000000     0.000000  \n",
       "25%         0.000000     0.000000  \n",
       "50%         0.000000     0.000000  \n",
       "75%         0.000000     0.000000  \n",
       "max         1.000000     1.000000  "
      ]
     },
     "execution_count": 31,
     "metadata": {},
     "output_type": "execute_result"
    }
   ],
   "source": [
    "railcard.describe()"
   ]
  },
  {
   "cell_type": "code",
   "execution_count": 32,
   "id": "4d6214f2",
   "metadata": {
    "scrolled": true
   },
   "outputs": [
    {
     "data": {
      "text/plain": [
       "railcard_yes\n",
       "1    225\n",
       "0    144\n",
       "Name: count, dtype: int64"
      ]
     },
     "execution_count": 32,
     "metadata": {},
     "output_type": "execute_result"
    }
   ],
   "source": [
    "# count of unique value \n",
    "# railcard_yes column just for example\n",
    "railcard[\"railcard_yes\"].value_counts()"
   ]
  },
  {
   "cell_type": "code",
   "execution_count": null,
   "id": "dffdb26c",
   "metadata": {},
   "outputs": [],
   "source": []
  },
  {
   "cell_type": "code",
   "execution_count": null,
   "id": "e2de6a75",
   "metadata": {},
   "outputs": [],
   "source": []
  },
  {
   "cell_type": "markdown",
   "id": "9ba5afd1",
   "metadata": {},
   "source": [
    "## Research Question:"
   ]
  },
  {
   "cell_type": "markdown",
   "id": "5f0260f0",
   "metadata": {},
   "source": [
    "Does the occupation of an individual influence the likelihood of having a railcard for train travel?"
   ]
  },
  {
   "cell_type": "markdown",
   "id": "533931b4",
   "metadata": {},
   "source": [
    "### Justification:"
   ]
  },
  {
   "cell_type": "markdown",
   "id": "48b8cfe3",
   "metadata": {},
   "source": [
    "- A nationwide fare reduction for rail transportation was instituted by Slovakia and Czechia for specific population segments \n",
    "\n",
    "Tomeš, Z., Fitzová, H., Pařil, V., Rederer, V., Kordová, Z. and Kasa, M., 2022. Fare discounts and free fares in long-distance public transport in central Europe. Case Studies on Transport Policy, 10(1), pp.507-517."
   ]
  },
  {
   "cell_type": "markdown",
   "id": "312b3aac",
   "metadata": {},
   "source": [
    "### Visualization"
   ]
  },
  {
   "cell_type": "code",
   "execution_count": 33,
   "id": "8fc93e11",
   "metadata": {},
   "outputs": [],
   "source": [
    "# Calculate column-wise sum to get frequency\n",
    "frequencies = railcard.sum()"
   ]
  },
  {
   "cell_type": "code",
   "execution_count": 34,
   "id": "1d99a99e",
   "metadata": {
    "scrolled": false
   },
   "outputs": [
    {
     "data": {
      "image/png": "[encoded data removed]",
      "text/plain": [
       "<Figure size 640x480 with 1 Axes>"
      ]
     },
     "metadata": {},
     "output_type": "display_data"
    }
   ],
   "source": [
    "# Create a bar plot\n",
    "frequencies.plot(kind='bar', title='Frequency of Categories')\n",
    "plt.show()"
   ]
  },
  {
   "cell_type": "markdown",
   "id": "8dab0ead",
   "metadata": {},
   "source": [
    "The occupation category \"occup_student\" has the highest frequency above 300, indicating that the majority of the instances in the dataset come from student profile."
   ]
  },
  {
   "cell_type": "markdown",
   "id": "206a1b78",
   "metadata": {},
   "source": [
    "## Hypothesis Test"
   ]
  },
  {
   "cell_type": "markdown",
   "id": "1baedeec",
   "metadata": {},
   "source": [
    "#### Null Hypothesis (H0): There is no significant association between occupation and having a railcard.\n",
    "\n",
    "#### Alternative Hypothesis (H1): There is a significant association between occupation and having a railcard."
   ]
  },
  {
   "cell_type": "markdown",
   "id": "e924a8a9",
   "metadata": {},
   "source": [
    "### Chi-Square Test"
   ]
  },
  {
   "cell_type": "markdown",
   "id": "5c4459f3",
   "metadata": {},
   "source": [
    "#### Contingency Table"
   ]
  },
  {
   "cell_type": "code",
   "execution_count": 35,
   "id": "e1a4b81a",
   "metadata": {},
   "outputs": [],
   "source": [
    "# contingency table\n",
    "\n",
    "# Choose one occupation column to represent occupation\n",
    "occupation_column = railcard[['occup_student', 'occup_uniemp', 'occup_emp', 'occup_retired', 'occup_other']].idxmax(axis=1)\n",
    "\n",
    "# Create a contingency table\n",
    "contingency_table = pd.crosstab(railcard['railcard_yes'], occupation_column)"
   ]
  },
  {
   "cell_type": "code",
   "execution_count": 36,
   "id": "8411b32c",
   "metadata": {
    "scrolled": false
   },
   "outputs": [
    {
     "data": {
      "image/png": "[encoded data removed]",
      "text/plain": [
       "<Figure size 1000x600 with 1 Axes>"
      ]
     },
     "metadata": {},
     "output_type": "display_data"
    }
   ],
   "source": [
    "# Plot the heatmap\n",
    "plt.figure(figsize=(10, 6))\n",
    "sns.heatmap(contingency_table, annot=True, fmt='d', cmap='Blues', cbar=False)\n",
    "plt.title('Contingency Table: Railcard vs Occupation')\n",
    "plt.xlabel('Occupation')\n",
    "plt.ylabel('Railcard Possession')\n",
    "plt.show()"
   ]
  },
  {
   "cell_type": "markdown",
   "id": "bb4c815e",
   "metadata": {},
   "source": [
    "student has highest count with railcard possession 1 which represent \"Yes\". "
   ]
  },
  {
   "cell_type": "code",
   "execution_count": 37,
   "id": "fd2d241d",
   "metadata": {},
   "outputs": [],
   "source": [
    "# Perform Chi-Square Test\n",
    "chi2_stat, p_value, _, expected = chi2_contingency(contingency_table, correction=False)"
   ]
  },
  {
   "cell_type": "code",
   "execution_count": 50,
   "id": "f9565898",
   "metadata": {},
   "outputs": [
    {
     "name": "stdout",
     "output_type": "stream",
     "text": [
      "Chi-square statistic: 10.695360942249238\n"
     ]
    }
   ],
   "source": [
    "# Output the results\n",
    "print(f\"Chi-square statistic: {chi2_stat}\")"
   ]
  },
  {
   "cell_type": "markdown",
   "id": "4a1dac43",
   "metadata": {},
   "source": [
    "A substantial deviation from expected frequencies is indicated by the chi-square statistic of 10.695 with a p-value of 0.03, indicating a strong link between holding a railcard and occupation."
   ]
  },
  {
   "cell_type": "markdown",
   "id": "cc514d2b",
   "metadata": {},
   "source": [
    "#### P-Value Approach"
   ]
  },
  {
   "cell_type": "code",
   "execution_count": 51,
   "id": "ed734655",
   "metadata": {},
   "outputs": [
    {
     "name": "stdout",
     "output_type": "stream",
     "text": [
      "P-value: 0.030209736524472095\n",
      "Reject the null hypothesis. There is a significant association between variables.\n"
     ]
    }
   ],
   "source": [
    "# Make a decision\n",
    "significance_level = 0.05\n",
    "print(f\"P-value: {p_value}\")\n",
    "if p_value < significance_level:\n",
    "    print(\"Reject the null hypothesis. There is a significant association between variables.\")\n",
    "else:\n",
    "    print(\"Fail to reject the null hypothesis. There is no significant association between variables.\")"
   ]
  },
  {
   "cell_type": "markdown",
   "id": "8de8b66e",
   "metadata": {},
   "source": [
    "p value is less than 0.05 which is 0.030 it means we can reject the null hypothesis."
   ]
  },
  {
   "cell_type": "markdown",
   "id": "f17469a2",
   "metadata": {},
   "source": [
    "### Result"
   ]
  },
  {
   "cell_type": "markdown",
   "id": "54dd5772",
   "metadata": {},
   "source": [
    "The null hypothesis rejected, indicating that there may be evidence of a significant connection between the variables in contingency table. There is likely reason to assume that the occupation categories in dataset are connected to the existence of a railcard."
   ]
  },
  {
   "cell_type": "markdown",
   "id": "eee09d27",
   "metadata": {},
   "source": [
    "#### Critical Value Approach"
   ]
  },
  {
   "cell_type": "code",
   "execution_count": 40,
   "id": "9e61808f",
   "metadata": {},
   "outputs": [],
   "source": [
    "# based on critical value\n",
    "# Degrees of freedom\n",
    "degrees_of_freedom = (contingency_table.shape[0] - 1) * (contingency_table.shape[1] - 1)"
   ]
  },
  {
   "cell_type": "code",
   "execution_count": 41,
   "id": "745f36f5",
   "metadata": {},
   "outputs": [
    {
     "data": {
      "text/plain": [
       "4"
      ]
     },
     "execution_count": 41,
     "metadata": {},
     "output_type": "execute_result"
    }
   ],
   "source": [
    "degrees_of_freedom"
   ]
  },
  {
   "cell_type": "code",
   "execution_count": 42,
   "id": "f216cd68",
   "metadata": {},
   "outputs": [
    {
     "name": "stdout",
     "output_type": "stream",
     "text": [
      "Critical Value: 9.487729036781154\n"
     ]
    }
   ],
   "source": [
    "# Find the critical value\n",
    "critical_value = chi2.ppf(1 - significance_level, degrees_of_freedom)\n",
    "\n",
    "print(f\"Critical Value: {critical_value}\")"
   ]
  },
  {
   "cell_type": "code",
   "execution_count": 43,
   "id": "43a7326e",
   "metadata": {},
   "outputs": [
    {
     "name": "stdout",
     "output_type": "stream",
     "text": [
      "Reject the null hypothesis. There is a significant association between variables.\n"
     ]
    }
   ],
   "source": [
    "if critical_value < chi2_stat:\n",
    "    print(\"Reject the null hypothesis. There is a significant association between variables.\")\n",
    "else:\n",
    "    print(\"Fail to reject the null hypothesis. There is no significant association between variables.\")"
   ]
  },
  {
   "cell_type": "markdown",
   "id": "14b9e20c",
   "metadata": {},
   "source": [
    "Chi square stats values is greater than critical value indicating significance association between railcard holder and occupation."
   ]
  },
  {
   "cell_type": "markdown",
   "id": "674c0838",
   "metadata": {},
   "source": [
    "### Residuals"
   ]
  },
  {
   "cell_type": "code",
   "execution_count": 44,
   "id": "109617cc",
   "metadata": {},
   "outputs": [],
   "source": [
    "# Fit the chi-square model\n",
    "chi_square_model = sm.stats.Table(contingency_table)\n",
    "residuals = chi_square_model.resid_pearson"
   ]
  },
  {
   "cell_type": "code",
   "execution_count": 45,
   "id": "b4183c8f",
   "metadata": {},
   "outputs": [
    {
     "data": {
      "text/html": [
       "<div>\n",
       "<style scoped>\n",
       "    .dataframe tbody tr th:only-of-type {\n",
       "        vertical-align: middle;\n",
       "    }\n",
       "\n",
       "    .dataframe tbody tr th {\n",
       "        vertical-align: top;\n",
       "    }\n",
       "\n",
       "    .dataframe thead th {\n",
       "        text-align: right;\n",
       "    }\n",
       "</style>\n",
       "<table border=\"1\" class=\"dataframe\">\n",
       "  <thead>\n",
       "    <tr style=\"text-align: right;\">\n",
       "      <th>col_0</th>\n",
       "      <th>occup_emp</th>\n",
       "      <th>occup_other</th>\n",
       "      <th>occup_retired</th>\n",
       "      <th>occup_student</th>\n",
       "      <th>occup_uniemp</th>\n",
       "    </tr>\n",
       "    <tr>\n",
       "      <th>railcard_yes</th>\n",
       "      <th></th>\n",
       "      <th></th>\n",
       "      <th></th>\n",
       "      <th></th>\n",
       "      <th></th>\n",
       "    </tr>\n",
       "  </thead>\n",
       "  <tbody>\n",
       "    <tr>\n",
       "      <th>0</th>\n",
       "      <td>0.550839</td>\n",
       "      <td>-0.159911</td>\n",
       "      <td>-0.742557</td>\n",
       "      <td>-0.587301</td>\n",
       "      <td>2.159009</td>\n",
       "    </tr>\n",
       "    <tr>\n",
       "      <th>1</th>\n",
       "      <td>-0.441436</td>\n",
       "      <td>0.128151</td>\n",
       "      <td>0.595076</td>\n",
       "      <td>0.470656</td>\n",
       "      <td>-1.730203</td>\n",
       "    </tr>\n",
       "  </tbody>\n",
       "</table>\n",
       "</div>"
      ],
      "text/plain": [
       "col_0         occup_emp  occup_other  occup_retired  occup_student  \\\n",
       "railcard_yes                                                         \n",
       "0              0.550839    -0.159911      -0.742557      -0.587301   \n",
       "1             -0.441436     0.128151       0.595076       0.470656   \n",
       "\n",
       "col_0         occup_uniemp  \n",
       "railcard_yes                \n",
       "0                 2.159009  \n",
       "1                -1.730203  "
      ]
     },
     "execution_count": 45,
     "metadata": {},
     "output_type": "execute_result"
    }
   ],
   "source": [
    "residuals"
   ]
  },
  {
   "cell_type": "code",
   "execution_count": 46,
   "id": "fca6c754",
   "metadata": {},
   "outputs": [],
   "source": [
    "residuals_df = pd.DataFrame(residuals)"
   ]
  },
  {
   "cell_type": "code",
   "execution_count": 47,
   "id": "b420229e",
   "metadata": {},
   "outputs": [],
   "source": [
    "# Add 'railcard_yes' as a regular column\n",
    "residuals_df['railcard_yes'] = [0, 1]"
   ]
  },
  {
   "cell_type": "code",
   "execution_count": 48,
   "id": "d5c0d997",
   "metadata": {},
   "outputs": [
    {
     "data": {
      "image/png": "[encoded data removed]",
      "text/plain": [
       "<Figure size 1000x600 with 2 Axes>"
      ]
     },
     "metadata": {},
     "output_type": "display_data"
    }
   ],
   "source": [
    "# Create a heatmap\n",
    "plt.figure(figsize=(10, 6))\n",
    "sns.heatmap(residuals_df.set_index('railcard_yes'), annot=True, cmap='RdBu_r', fmt=\".3f\", linewidths=.5)\n",
    "plt.title('Residuals Heatmap')\n",
    "plt.show()"
   ]
  },
  {
   "cell_type": "markdown",
   "id": "1f7164b2",
   "metadata": {},
   "source": [
    "Above heatmap shows that 'occup_student' which represent student has positive residual for railcard value 1 which means observed frequency is higher than expected so we can say that student more likely to have railcard. "
   ]
  },
  {
   "cell_type": "markdown",
   "id": "6c9e7637",
   "metadata": {},
   "source": [
    "#### Distribution of individual with and without railcard"
   ]
  },
  {
   "cell_type": "code",
   "execution_count": 49,
   "id": "13e6b59b",
   "metadata": {},
   "outputs": [
    {
     "data": {
      "image/png": "[encoded data removed]",
      "text/plain": [
       "<Figure size 1000x600 with 1 Axes>"
      ]
     },
     "metadata": {},
     "output_type": "display_data"
    }
   ],
   "source": [
    "# Filter relevant columns\n",
    "df_vis = railcard[['railcard_yes', 'occup_student', 'occup_uniemp', 'occup_emp', 'occup_retired', 'occup_other']]\n",
    "\n",
    "# Calculate proportions\n",
    "proportions = df_vis.groupby('railcard_yes').mean()\n",
    "\n",
    "# Plotting\n",
    "sns.set(style=\"whitegrid\")\n",
    "fig, ax = plt.subplots(figsize=(10, 6))\n",
    "\n",
    "# Define a custom color palette\n",
    "colors = ['#a6cee3', '#1f78b4']  # Blue for railcard_yes, Light blue for railcard_no\n",
    "\n",
    "# Stacked bar chart with custom colors\n",
    "proportions.T.plot(kind='bar', stacked=True, ax=ax, color=colors)\n",
    "\n",
    "# Set labels and title\n",
    "ax.set_xlabel('Occupation Category')\n",
    "ax.set_ylabel('Proportion')\n",
    "ax.set_title('Proportion of Railcard Possession by Occupation Category')\n",
    "\n",
    "# Show the legend\n",
    "ax.legend(title='Railcard Possession', bbox_to_anchor=(1.05, 1), loc='upper left')\n",
    "\n",
    "# Show the plot\n",
    "plt.show()"
   ]
  },
  {
   "cell_type": "markdown",
   "id": "e0ffbeae",
   "metadata": {},
   "source": [
    "This graph helps in interpreting the relative frequency of railcard ownership throughout each type of occupations, offering perceptions into possible correlations between occupation and railcard ownership."
   ]
  },
  {
   "cell_type": "markdown",
   "id": "8718bcbf",
   "metadata": {},
   "source": [
    "### Interpretation"
   ]
  },
  {
   "cell_type": "markdown",
   "id": "cd4ce6cd",
   "metadata": {},
   "source": [
    "- Using their railcard benefits for train travel, students are more likely than those in other professions."
   ]
  },
  {
   "cell_type": "markdown",
   "id": "840ee283",
   "metadata": {},
   "source": [
    "### Alignment with Literature"
   ]
  },
  {
   "cell_type": "markdown",
   "id": "425550d7",
   "metadata": {},
   "source": [
    "- It's possible that certain policies, laws, or travel habits are reason for students' choice for railcards."
   ]
  },
  {
   "cell_type": "markdown",
   "id": "1252e9a7",
   "metadata": {},
   "source": [
    "### Limitations"
   ]
  },
  {
   "cell_type": "markdown",
   "id": "f059b89d",
   "metadata": {},
   "source": [
    "- The dataset seems to be imbalanced leading to biased predictions"
   ]
  },
  {
   "cell_type": "markdown",
   "id": "831397c1",
   "metadata": {},
   "source": [
    "### Future Work"
   ]
  },
  {
   "cell_type": "markdown",
   "id": "f0e4c6f1",
   "metadata": {},
   "source": [
    "- Other demographic information like age, gender, income, location could offer a deeper understanding."
   ]
  },
  {
   "cell_type": "markdown",
   "id": "1c8887a0",
   "metadata": {},
   "source": [
    "### Conclusion"
   ]
  },
  {
   "cell_type": "markdown",
   "id": "ff36cf1a",
   "metadata": {},
   "source": [
    "- study offers insightful information about the relationship between having a railcard and occupation.\n",
    "\n",
    "- The student variable's significant importance implies a more sophisticated understanding of travel behaviour and policy consequences."
   ]
  },
  {
   "cell_type": "code",
   "execution_count": null,
   "id": "48403de7",
   "metadata": {},
   "outputs": [],
   "source": []
  },
  {
   "cell_type": "code",
   "execution_count": null,
   "id": "654cf2c4",
   "metadata": {},
   "outputs": [],
   "source": []
  }
 ],
 "metadata": {
  "kernelspec": {
   "display_name": "Python 3 (ipykernel)",
   "language": "python",
   "name": "python3"
  },
  "language_info": {
   "codemirror_mode": {
    "name": "ipython",
    "version": 3
   },
   "file_extension": ".py",
   "mimetype": "text/x-python",
   "name": "python",
   "nbconvert_exporter": "python",
   "pygments_lexer": "ipython3",
   "version": "3.11.5"
  }
 },
 "nbformat": 4,
 "nbformat_minor": 5
}
